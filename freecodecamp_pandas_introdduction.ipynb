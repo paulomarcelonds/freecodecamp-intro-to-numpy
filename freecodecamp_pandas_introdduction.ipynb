{
  "nbformat": 4,
  "nbformat_minor": 0,
  "metadata": {
    "colab": {
      "provenance": [],
      "toc_visible": true,
      "authorship_tag": "ABX9TyPc/6vRxeJYMlFvHEVudfxw",
      "include_colab_link": true
    },
    "kernelspec": {
      "name": "python3",
      "display_name": "Python 3"
    },
    "language_info": {
      "name": "python"
    }
  },
  "cells": [
    {
      "cell_type": "markdown",
      "metadata": {
        "id": "view-in-github",
        "colab_type": "text"
      },
      "source": [
        "<a href=\"https://colab.research.google.com/github/paulomarcelonds/freecodecamp-intro-to-numpy/blob/master/freecodecamp_pandas_introdduction.ipynb\" target=\"_parent\"><img src=\"https://colab.research.google.com/assets/colab-badge.svg\" alt=\"Open In Colab\"/></a>"
      ]
    },
    {
      "cell_type": "code",
      "source": [
        "import pandas as pd\n",
        "import numpy as np"
      ],
      "metadata": {
        "id": "25wzLXYm7K1N"
      },
      "execution_count": 1,
      "outputs": []
    },
    {
      "cell_type": "markdown",
      "source": [
        "#Pandas Series"
      ],
      "metadata": {
        "id": "elIh3og67en4"
      }
    },
    {
      "cell_type": "code",
      "source": [
        "g7_pop = pd.Series([35.467, 63.951, 80.940, 60.665, 127.061, 64.511, 318.523])"
      ],
      "metadata": {
        "id": "h30YbkVV7gBx"
      },
      "execution_count": 3,
      "outputs": []
    },
    {
      "cell_type": "code",
      "source": [
        "g7_pop"
      ],
      "metadata": {
        "colab": {
          "base_uri": "https://localhost:8080/"
        },
        "id": "6ga_5gvt7if5",
        "outputId": "7b5a3567-4d02-48ee-dd2d-14ce4d46c21b"
      },
      "execution_count": 4,
      "outputs": [
        {
          "output_type": "execute_result",
          "data": {
            "text/plain": [
              "0     35.467\n",
              "1     63.951\n",
              "2     80.940\n",
              "3     60.665\n",
              "4    127.061\n",
              "5     64.511\n",
              "6    318.523\n",
              "dtype: float64"
            ]
          },
          "metadata": {},
          "execution_count": 4
        }
      ]
    },
    {
      "cell_type": "code",
      "source": [
        "g7_pop.name = \"G7 Population in millions\""
      ],
      "metadata": {
        "id": "PCv4mUFZ7mTv"
      },
      "execution_count": 5,
      "outputs": []
    },
    {
      "cell_type": "code",
      "source": [
        "g7_pop"
      ],
      "metadata": {
        "colab": {
          "base_uri": "https://localhost:8080/"
        },
        "id": "ZERVSYuC7qU-",
        "outputId": "2b151a54-6142-4223-cfc0-d476046258b9"
      },
      "execution_count": 6,
      "outputs": [
        {
          "output_type": "execute_result",
          "data": {
            "text/plain": [
              "0     35.467\n",
              "1     63.951\n",
              "2     80.940\n",
              "3     60.665\n",
              "4    127.061\n",
              "5     64.511\n",
              "6    318.523\n",
              "Name: G7 Population in millions, dtype: float64"
            ]
          },
          "metadata": {},
          "execution_count": 6
        }
      ]
    },
    {
      "cell_type": "code",
      "source": [
        "g7_pop.dtype"
      ],
      "metadata": {
        "colab": {
          "base_uri": "https://localhost:8080/"
        },
        "id": "6BW-2_8V7sc0",
        "outputId": "af34f68b-b232-4e8f-ac80-c05741c89fb2"
      },
      "execution_count": 7,
      "outputs": [
        {
          "output_type": "execute_result",
          "data": {
            "text/plain": [
              "dtype('float64')"
            ]
          },
          "metadata": {},
          "execution_count": 7
        }
      ]
    },
    {
      "cell_type": "code",
      "source": [
        "g7_pop.values"
      ],
      "metadata": {
        "colab": {
          "base_uri": "https://localhost:8080/"
        },
        "id": "EPCoUIBk7vWM",
        "outputId": "956f4718-fec6-47da-988c-e1c2afc5b128"
      },
      "execution_count": 8,
      "outputs": [
        {
          "output_type": "execute_result",
          "data": {
            "text/plain": [
              "array([ 35.467,  63.951,  80.94 ,  60.665, 127.061,  64.511, 318.523])"
            ]
          },
          "metadata": {},
          "execution_count": 8
        }
      ]
    },
    {
      "cell_type": "code",
      "source": [
        "type(g7_pop.values)"
      ],
      "metadata": {
        "colab": {
          "base_uri": "https://localhost:8080/"
        },
        "id": "NaimQyUY7xnW",
        "outputId": "87fde9f3-2df5-4094-b060-19643395f8b0"
      },
      "execution_count": 9,
      "outputs": [
        {
          "output_type": "execute_result",
          "data": {
            "text/plain": [
              "numpy.ndarray"
            ]
          },
          "metadata": {},
          "execution_count": 9
        }
      ]
    },
    {
      "cell_type": "code",
      "source": [
        "g7_pop"
      ],
      "metadata": {
        "colab": {
          "base_uri": "https://localhost:8080/"
        },
        "id": "GkNZ5bRS7zxC",
        "outputId": "2863ffbe-133a-455e-94ad-ba40461e5a43"
      },
      "execution_count": 10,
      "outputs": [
        {
          "output_type": "execute_result",
          "data": {
            "text/plain": [
              "0     35.467\n",
              "1     63.951\n",
              "2     80.940\n",
              "3     60.665\n",
              "4    127.061\n",
              "5     64.511\n",
              "6    318.523\n",
              "Name: G7 Population in millions, dtype: float64"
            ]
          },
          "metadata": {},
          "execution_count": 10
        }
      ]
    },
    {
      "cell_type": "code",
      "source": [
        "g7_pop[0]"
      ],
      "metadata": {
        "colab": {
          "base_uri": "https://localhost:8080/"
        },
        "id": "zyzAV2Bn72_r",
        "outputId": "97332061-bde8-48e1-fd35-bea4f78f408a"
      },
      "execution_count": 11,
      "outputs": [
        {
          "output_type": "execute_result",
          "data": {
            "text/plain": [
              "35.467"
            ]
          },
          "metadata": {},
          "execution_count": 11
        }
      ]
    },
    {
      "cell_type": "code",
      "source": [
        "g7_pop[1]"
      ],
      "metadata": {
        "colab": {
          "base_uri": "https://localhost:8080/"
        },
        "id": "_-LU7Hys75mm",
        "outputId": "1bfccf5e-4939-4756-8325-0e3c2f5db619"
      },
      "execution_count": 12,
      "outputs": [
        {
          "output_type": "execute_result",
          "data": {
            "text/plain": [
              "63.951"
            ]
          },
          "metadata": {},
          "execution_count": 12
        }
      ]
    },
    {
      "cell_type": "code",
      "source": [
        "g7_pop.index\n"
      ],
      "metadata": {
        "colab": {
          "base_uri": "https://localhost:8080/"
        },
        "id": "BL8z5UUE75qL",
        "outputId": "0e447c12-7d52-4af2-9195-a4be100f7588"
      },
      "execution_count": 13,
      "outputs": [
        {
          "output_type": "execute_result",
          "data": {
            "text/plain": [
              "RangeIndex(start=0, stop=7, step=1)"
            ]
          },
          "metadata": {},
          "execution_count": 13
        }
      ]
    },
    {
      "cell_type": "code",
      "source": [],
      "metadata": {
        "id": "jqXxg1fl75u2"
      },
      "execution_count": null,
      "outputs": []
    },
    {
      "cell_type": "code",
      "source": [],
      "metadata": {
        "id": "mzrjEqUT75zz"
      },
      "execution_count": null,
      "outputs": []
    }
  ]
}